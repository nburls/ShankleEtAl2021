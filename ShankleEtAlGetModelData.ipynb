{
 "cells": [
  {
   "cell_type": "code",
   "execution_count": 1,
   "metadata": {},
   "outputs": [],
   "source": [
    "%reset -f\n",
    "# Loading libraries\n",
    "import matplotlib.pyplot as plt\n",
    "import numpy as np\n",
    "import xarray as xr\n",
    "import xesmf as xe\n",
    "import pandas as pd\n",
    "import cftime \n",
    "import matplotlib.colors as mcolors\n",
    "import Ngl"
   ]
  },
  {
   "cell_type": "code",
   "execution_count": 7,
   "metadata": {},
   "outputs": [],
   "source": [
    "# PI Control\n",
    "PI_CISO_Data = xr.open_dataset('/glade/p/univ/p93300190/nburls/PreInd_ciso_T31_gx3v7/ocn/hist/CLIM/PreInd_ciso_T31_gx3v7_ALL.2901-3000.nc',decode_times=True)\n",
    "\n",
    "# PlioB17_ciso_T31_gx3v7_branch - Exp A\n",
    "#ExpA_CISO_Data = xr.open_dataset('/glade/p/univ/p93300190/nburls/PlioB17_ciso_T31_gx3v7_branch/ocn/hist/CLIM/PlioB17_ciso_T31_gx3v7_branch_ALL.2901-3000.nc',decode_times=True) \n",
    "PlioMio_CISO_Data = xr.open_dataset('/glade/p/univ/p93300190/nburls/PlioB17_ciso_T31_gx3v7_branch/ocn/hist/CLIM/PlioB17_ciso_T31_gx3v7_branch_ALL.2901-3000.nc',decode_times=True) \n",
    "\n",
    "# Plio_ciso_T31_gx3v7 - Exp B\n",
    "#ExpB_CISO_Data = xr.open_dataset('/glade/p/univ/p93300190/nburls/Plio_ciso_T31_gx3v7/ocn/hist/CLIM/Plio_ciso_T31_gx3v7_ALL.2901-3000.nc',decode_times=True)"
   ]
  },
  {
   "cell_type": "code",
   "execution_count": 5,
   "metadata": {},
   "outputs": [],
   "source": [
    "# Define pH variables\n",
    "PI_pH = PI_CISO_Data.pH_3D\n",
    "PlioMio_pH = PlioMio_CISO_Data.pH_3D\n",
    "# Save pH variables\n",
    "PI_pH.to_netcdf('/glade/work/nburls/CISO_Analysis/ShankleEtAlModelFigureData/PI_pH.nc')\n",
    "PlioMio_pH.to_netcdf('/glade/work/nburls/CISO_Analysis/ShankleEtAlModelFigureData/PlioMio_pH.nc')"
   ]
  },
  {
   "cell_type": "code",
   "execution_count": 13,
   "metadata": {},
   "outputs": [],
   "source": [
    "# Define Basin Mask variable\n",
    "basin_mask = PI_CISO_Data.REGION_MASK\n",
    "# Save Basin Mask variable\n",
    "basin_mask.to_netcdf('/glade/work/nburls/CISO_Analysis/ShankleEtAlModelFigureData/basin_mask.nc')"
   ]
  },
  {
   "cell_type": "code",
   "execution_count": 22,
   "metadata": {},
   "outputs": [],
   "source": [
    "# Define IAGE variables\n",
    "PI_IAGE = PI_CISO_Data.IAGE\n",
    "PlioMio_IAGE = PlioMio_CISO_Data.IAGE\n",
    "# Save IAGE variables\n",
    "PI_IAGE.to_netcdf('/glade/work/nburls/CISO_Analysis/ShankleEtAlModelFigureData/PI_IAGE.nc')\n",
    "PlioMio_IAGE.to_netcdf('/glade/work/nburls/CISO_Analysis/ShankleEtAlModelFigureData/PlioMio_IAGE.nc')"
   ]
  },
  {
   "cell_type": "code",
   "execution_count": 10,
   "metadata": {},
   "outputs": [],
   "source": [
    "# Define Stream Function variables\n",
    "PI_Global_Total_SF = PI_CISO_Data.MOC[0,0,0,:,:]+PI_CISO_Data.MOC[0,0,1,:,:]+PI_CISO_Data.MOC[0,0,2,:,:]\n",
    "PI_Atlantic_Total_SF = PI_CISO_Data.MOC[0,1,0,:,:]+PI_CISO_Data.MOC[0,1,1,:,:]+PI_CISO_Data.MOC[0,1,2,:,:]\n",
    "PI_Pacific_Total_SF =  PI_Global_Total_SF - PI_Atlantic_Total_SF\n",
    "\n",
    "PlioMio_Global_Total_SF = PlioMio_CISO_Data.MOC[0,0,0,:,:]+PlioMio_CISO_Data.MOC[0,0,1,:,:]+PlioMio_CISO_Data.MOC[0,0,2,:,:]\n",
    "PlioMio_Atlantic_Total_SF = PlioMio_CISO_Data.MOC[0,1,0,:,:]+PlioMio_CISO_Data.MOC[0,1,1,:,:]+PlioMio_CISO_Data.MOC[0,1,2,:,:]\n",
    "PlioMio_Pacific_Total_SF =  PlioMio_Global_Total_SF - PlioMio_Atlantic_Total_SF\n",
    "# Save Stream Function variables\n",
    "PI_Global_Total_SF.to_netcdf('/glade/work/nburls/CISO_Analysis/ShankleEtAlModelFigureData/PI_Global_MOC.nc')\n",
    "PlioMio_Global_Total_SF.to_netcdf('/glade/work/nburls/CISO_Analysis/ShankleEtAlModelFigureData/PlioMio_Global_MOC.nc')\n",
    "PI_Atlantic_Total_SF.to_netcdf('/glade/work/nburls/CISO_Analysis/ShankleEtAlModelFigureData/PI_Atlantic_MOC.nc')\n",
    "PlioMio_Atlantic_Total_SF.to_netcdf('/glade/work/nburls/CISO_Analysis/ShankleEtAlModelFigureData/PlioMio_Atlantic_MOC.nc')\n",
    "PI_Pacific_Total_SF.to_netcdf('/glade/work/nburls/CISO_Analysis/ShankleEtAlModelFigureData/PI_Pacific_MOC.nc')\n",
    "PlioMio_Pacific_Total_SF.to_netcdf('/glade/work/nburls/CISO_Analysis/ShankleEtAlModelFigureData/PlioMio_Pacific_MOC.nc')"
   ]
  },
  {
   "cell_type": "code",
   "execution_count": 19,
   "metadata": {},
   "outputs": [],
   "source": [
    "# Lagrangian Pathways already saved in single netcdf file\n",
    "#Exp_trajectory_Data = xr.open_dataset('/glade/work/nburls/CISO_Analysis/PMOC_pacific_trajectories_yz.nc',decode_times=True)"
   ]
  },
  {
   "cell_type": "code",
   "execution_count": 2,
   "metadata": {},
   "outputs": [],
   "source": [
    "from scipy.io import loadmat"
   ]
  },
  {
   "cell_type": "code",
   "execution_count": 3,
   "metadata": {},
   "outputs": [],
   "source": [
    "year = loadmat('Ocean_pHgrad_PreInd_ciso_T31_gx3v7.mat')['year']\n",
    "grad_pH = loadmat('Ocean_pHgrad_PreInd_ciso_T31_gx3v7.mat')['grad_pH']\n",
    "grad_SST = loadmat('Ocean_SSTgrad_PreInd_ciso_T31_gx3v7.mat')['grad_SST']\n",
    "PMOC = loadmat('PMOC_and_AMOC_max_stmfunct_PreInd_ciso_T31_gx3v7.mat')['PMOC_max_strmfunct']\n",
    "\n",
    "year_PI=year.squeeze(axis=None)\n",
    "grad_pH_PI=grad_pH.squeeze(axis=None)\n",
    "grad_SST_PI=grad_SST.squeeze(axis=None)\n",
    "PMOC_PI=PMOC.squeeze(axis=None)"
   ]
  },
  {
   "cell_type": "code",
   "execution_count": 4,
   "metadata": {},
   "outputs": [],
   "source": [
    "# create dataset\n",
    "ds = xr.Dataset({\n",
    "    'delta_pH': xr.DataArray(\n",
    "                data   = grad_pH_PI,\n",
    "                dims   = ['year'],\n",
    "                coords = {'year': year_PI},\n",
    "                attrs  = {\n",
    "                    'units'     : 'pH'\n",
    "                    }\n",
    "                ),\n",
    "    'delta_SST': xr.DataArray(\n",
    "                data   = grad_SST_PI,  \n",
    "                dims   = ['year'],\n",
    "                coords = {'year': year_PI},\n",
    "                attrs  = {\n",
    "                    'units'     : 'degC'\n",
    "                    }\n",
    "                ),\n",
    "    'PMOC_max': xr.DataArray(\n",
    "                data   = PMOC_PI,\n",
    "                dims   = ['year'],\n",
    "                coords = {'year': year_PI},\n",
    "                attrs  = {\n",
    "                    'units'     : 'Sv'\n",
    "                    }\n",
    "                ),\n",
    "            },\n",
    "    )"
   ]
  },
  {
   "cell_type": "code",
   "execution_count": 6,
   "metadata": {},
   "outputs": [],
   "source": [
    "# save dataset\n",
    "ds.to_netcdf('/glade/work/nburls/CISO_Analysis/ShankleEtAlModelFigureData/PI_Adjustment_Timeseries.nc')"
   ]
  },
  {
   "cell_type": "code",
   "execution_count": 128,
   "metadata": {},
   "outputs": [],
   "source": [
    "year = loadmat('Ocean_pHgrad_PlioB17_ciso_T31_gx3v7.mat')['year']\n",
    "grad_pH = loadmat('Ocean_pHgrad_PlioB17_ciso_T31_gx3v7.mat')['grad_pH']\n",
    "grad_SST = loadmat('Ocean_SSTgrad_PlioB17_ciso_T31_gx3v7.mat')['grad_SST']\n",
    "PMOC = loadmat('PMOC_and_AMOC_max_stmfunct_PlioB17_ciso_T31_gx3v7.mat')['PMOC_max_strmfunct']\n",
    "\n",
    "year_PlioMio_begin=year.squeeze(axis=None)\n",
    "grad_pH_PlioMio_begin=grad_pH.squeeze(axis=None)\n",
    "grad_SST_PlioMio_begin=grad_SST.squeeze(axis=None)\n",
    "PMOC_PlioMio_begin=PMOC.squeeze(axis=None)\n",
    "\n",
    "#plt.plot(year_PlioMio,PMOC_PlioMio)"
   ]
  },
  {
   "cell_type": "code",
   "execution_count": 129,
   "metadata": {},
   "outputs": [],
   "source": [
    "year_branch = loadmat('Ocean_pHgrad_PlioB17_ciso_T31_gx3v7_branch.mat')['year']\n",
    "grad_pH_branch = loadmat('Ocean_pHgrad_PlioB17_ciso_T31_gx3v7_branch.mat')['grad_pH']\n",
    "grad_SST_branch = loadmat('Ocean_SSTgrad_PlioB17_ciso_T31_gx3v7_branch.mat')['grad_SST']\n",
    "PMOC_branch = loadmat('PMOC_and_AMOC_max_stmfunct_PlioB17_ciso_T31_gx3v7_branch.mat')['PMOC_max_strmfunct']\n",
    "\n",
    "year_PlioMio_branch=year_branch.squeeze(axis=None)\n",
    "grad_pH_PlioMio_branch=grad_pH_branch.squeeze(axis=None)\n",
    "grad_SST_PlioMio_branch=grad_SST_branch.squeeze(axis=None)\n",
    "PMOC_PlioMio_branch=PMOC_branch.squeeze(axis=None)"
   ]
  },
  {
   "cell_type": "code",
   "execution_count": 130,
   "metadata": {},
   "outputs": [],
   "source": [
    "year_PlioMio=np.concatenate((year_PlioMio_begin[0:2490], year_PlioMio_branch[2490:]), axis=0)\n",
    "grad_pH_PlioMio=np.concatenate((grad_pH_PlioMio_begin[0:2490], grad_pH_PlioMio_branch[2490:]), axis=0)\n",
    "grad_SST_PlioMio=np.concatenate((grad_SST_PlioMio_begin[0:2490], grad_SST_PlioMio_branch[2490:]), axis=0)\n",
    "PMOC_PlioMio=np.concatenate((PMOC_PlioMio_begin[0:2490], PMOC_PlioMio_branch[2490:]), axis=0)"
   ]
  },
  {
   "cell_type": "code",
   "execution_count": 131,
   "metadata": {},
   "outputs": [],
   "source": [
    "# create dataset\n",
    "ds = xr.Dataset({\n",
    "    'delta_pH': xr.DataArray(\n",
    "                data   = grad_pH_PlioMio,\n",
    "                dims   = ['year'],\n",
    "                coords = {'year': year_PlioMio},\n",
    "                attrs  = {\n",
    "                    'units'     : 'pH'\n",
    "                    }\n",
    "                ),\n",
    "    'delta_SST': xr.DataArray(\n",
    "                data   = grad_SST_PlioMio,  \n",
    "                dims   = ['year'],\n",
    "                coords = {'year': year_PlioMio},\n",
    "                attrs  = {\n",
    "                    'units'     : 'degC'\n",
    "                    }\n",
    "                ),\n",
    "    'PMOC_max': xr.DataArray(\n",
    "                data   = PMOC_PlioMio,\n",
    "                dims   = ['year'],\n",
    "                coords = {'year': year_PI},\n",
    "                attrs  = {\n",
    "                    'units'     : 'Sv'\n",
    "                    }\n",
    "                ),\n",
    "            },\n",
    "    )"
   ]
  },
  {
   "cell_type": "code",
   "execution_count": 132,
   "metadata": {},
   "outputs": [],
   "source": [
    "# save dataset\n",
    "ds.to_netcdf('/glade/work/nburls/CISO_Analysis/ShankleEtAlModelFigureData/PlioMio_Adjustment_Timeseries.nc')"
   ]
  }
 ],
 "metadata": {
  "kernelspec": {
   "display_name": "Python [conda env:miniconda3]",
   "language": "python",
   "name": "conda-env-miniconda3-py"
  },
  "language_info": {
   "codemirror_mode": {
    "name": "ipython",
    "version": 3
   },
   "file_extension": ".py",
   "mimetype": "text/x-python",
   "name": "python",
   "nbconvert_exporter": "python",
   "pygments_lexer": "ipython3",
   "version": "3.7.3"
  }
 },
 "nbformat": 4,
 "nbformat_minor": 4
}
